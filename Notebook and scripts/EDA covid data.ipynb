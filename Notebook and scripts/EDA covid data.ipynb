{
 "cells": [
  {
   "cell_type": "code",
   "execution_count": 3,
   "id": "c5180c88-71a2-4dea-90c6-f16381fd65fe",
   "metadata": {},
   "outputs": [],
   "source": [
    "import sqlite3\n",
    "import pandas as pd"
   ]
  },
  {
   "cell_type": "code",
   "execution_count": 4,
   "id": "38027efb-b9de-45eb-9955-d625234388e5",
   "metadata": {},
   "outputs": [
    {
     "name": "stdout",
     "output_type": "stream",
     "text": [
      "(231, 11)\n"
     ]
    },
    {
     "data": {
      "text/html": [
       "<div>\n",
       "<style scoped>\n",
       "    .dataframe tbody tr th:only-of-type {\n",
       "        vertical-align: middle;\n",
       "    }\n",
       "\n",
       "    .dataframe tbody tr th {\n",
       "        vertical-align: top;\n",
       "    }\n",
       "\n",
       "    .dataframe thead th {\n",
       "        text-align: right;\n",
       "    }\n",
       "</style>\n",
       "<table border=\"1\" class=\"dataframe\">\n",
       "  <thead>\n",
       "    <tr style=\"text-align: right;\">\n",
       "      <th></th>\n",
       "      <th>country</th>\n",
       "      <th>cases</th>\n",
       "      <th>todayCases</th>\n",
       "      <th>deaths</th>\n",
       "      <th>todayDeaths</th>\n",
       "      <th>recovered</th>\n",
       "      <th>todayRecovered</th>\n",
       "      <th>active</th>\n",
       "      <th>critical</th>\n",
       "      <th>population</th>\n",
       "      <th>fetch_date</th>\n",
       "    </tr>\n",
       "  </thead>\n",
       "  <tbody>\n",
       "    <tr>\n",
       "      <th>0</th>\n",
       "      <td>Afghanistan</td>\n",
       "      <td>234174</td>\n",
       "      <td>0</td>\n",
       "      <td>7996</td>\n",
       "      <td>0</td>\n",
       "      <td>211080</td>\n",
       "      <td>0</td>\n",
       "      <td>15098</td>\n",
       "      <td>0</td>\n",
       "      <td>40754388</td>\n",
       "      <td>2025-07-18</td>\n",
       "    </tr>\n",
       "    <tr>\n",
       "      <th>1</th>\n",
       "      <td>Albania</td>\n",
       "      <td>334863</td>\n",
       "      <td>0</td>\n",
       "      <td>3605</td>\n",
       "      <td>0</td>\n",
       "      <td>330233</td>\n",
       "      <td>0</td>\n",
       "      <td>1025</td>\n",
       "      <td>0</td>\n",
       "      <td>2866374</td>\n",
       "      <td>2025-07-18</td>\n",
       "    </tr>\n",
       "    <tr>\n",
       "      <th>2</th>\n",
       "      <td>Algeria</td>\n",
       "      <td>272010</td>\n",
       "      <td>0</td>\n",
       "      <td>6881</td>\n",
       "      <td>0</td>\n",
       "      <td>183061</td>\n",
       "      <td>0</td>\n",
       "      <td>82068</td>\n",
       "      <td>0</td>\n",
       "      <td>45350148</td>\n",
       "      <td>2025-07-18</td>\n",
       "    </tr>\n",
       "    <tr>\n",
       "      <th>3</th>\n",
       "      <td>Andorra</td>\n",
       "      <td>48015</td>\n",
       "      <td>0</td>\n",
       "      <td>165</td>\n",
       "      <td>0</td>\n",
       "      <td>0</td>\n",
       "      <td>0</td>\n",
       "      <td>47850</td>\n",
       "      <td>0</td>\n",
       "      <td>77463</td>\n",
       "      <td>2025-07-18</td>\n",
       "    </tr>\n",
       "    <tr>\n",
       "      <th>4</th>\n",
       "      <td>Angola</td>\n",
       "      <td>107327</td>\n",
       "      <td>0</td>\n",
       "      <td>1937</td>\n",
       "      <td>0</td>\n",
       "      <td>103419</td>\n",
       "      <td>0</td>\n",
       "      <td>1971</td>\n",
       "      <td>0</td>\n",
       "      <td>35027343</td>\n",
       "      <td>2025-07-18</td>\n",
       "    </tr>\n",
       "    <tr>\n",
       "      <th>...</th>\n",
       "      <td>...</td>\n",
       "      <td>...</td>\n",
       "      <td>...</td>\n",
       "      <td>...</td>\n",
       "      <td>...</td>\n",
       "      <td>...</td>\n",
       "      <td>...</td>\n",
       "      <td>...</td>\n",
       "      <td>...</td>\n",
       "      <td>...</td>\n",
       "      <td>...</td>\n",
       "    </tr>\n",
       "    <tr>\n",
       "      <th>226</th>\n",
       "      <td>Wallis and Futuna</td>\n",
       "      <td>3550</td>\n",
       "      <td>0</td>\n",
       "      <td>8</td>\n",
       "      <td>0</td>\n",
       "      <td>438</td>\n",
       "      <td>0</td>\n",
       "      <td>3104</td>\n",
       "      <td>0</td>\n",
       "      <td>10982</td>\n",
       "      <td>2025-07-18</td>\n",
       "    </tr>\n",
       "    <tr>\n",
       "      <th>227</th>\n",
       "      <td>Western Sahara</td>\n",
       "      <td>10</td>\n",
       "      <td>0</td>\n",
       "      <td>1</td>\n",
       "      <td>0</td>\n",
       "      <td>9</td>\n",
       "      <td>0</td>\n",
       "      <td>0</td>\n",
       "      <td>0</td>\n",
       "      <td>626161</td>\n",
       "      <td>2025-07-18</td>\n",
       "    </tr>\n",
       "    <tr>\n",
       "      <th>228</th>\n",
       "      <td>Yemen</td>\n",
       "      <td>11945</td>\n",
       "      <td>0</td>\n",
       "      <td>2159</td>\n",
       "      <td>0</td>\n",
       "      <td>9124</td>\n",
       "      <td>0</td>\n",
       "      <td>662</td>\n",
       "      <td>0</td>\n",
       "      <td>31154867</td>\n",
       "      <td>2025-07-18</td>\n",
       "    </tr>\n",
       "    <tr>\n",
       "      <th>229</th>\n",
       "      <td>Zambia</td>\n",
       "      <td>349304</td>\n",
       "      <td>0</td>\n",
       "      <td>4069</td>\n",
       "      <td>0</td>\n",
       "      <td>341316</td>\n",
       "      <td>0</td>\n",
       "      <td>3919</td>\n",
       "      <td>0</td>\n",
       "      <td>19470234</td>\n",
       "      <td>2025-07-18</td>\n",
       "    </tr>\n",
       "    <tr>\n",
       "      <th>230</th>\n",
       "      <td>Zimbabwe</td>\n",
       "      <td>266359</td>\n",
       "      <td>0</td>\n",
       "      <td>5740</td>\n",
       "      <td>0</td>\n",
       "      <td>258888</td>\n",
       "      <td>0</td>\n",
       "      <td>1731</td>\n",
       "      <td>12</td>\n",
       "      <td>15331428</td>\n",
       "      <td>2025-07-18</td>\n",
       "    </tr>\n",
       "  </tbody>\n",
       "</table>\n",
       "<p>231 rows × 11 columns</p>\n",
       "</div>"
      ],
      "text/plain": [
       "               country   cases  todayCases  deaths  todayDeaths  recovered  \\\n",
       "0          Afghanistan  234174           0    7996            0     211080   \n",
       "1              Albania  334863           0    3605            0     330233   \n",
       "2              Algeria  272010           0    6881            0     183061   \n",
       "3              Andorra   48015           0     165            0          0   \n",
       "4               Angola  107327           0    1937            0     103419   \n",
       "..                 ...     ...         ...     ...          ...        ...   \n",
       "226  Wallis and Futuna    3550           0       8            0        438   \n",
       "227     Western Sahara      10           0       1            0          9   \n",
       "228              Yemen   11945           0    2159            0       9124   \n",
       "229             Zambia  349304           0    4069            0     341316   \n",
       "230           Zimbabwe  266359           0    5740            0     258888   \n",
       "\n",
       "     todayRecovered  active  critical  population  fetch_date  \n",
       "0                 0   15098         0    40754388  2025-07-18  \n",
       "1                 0    1025         0     2866374  2025-07-18  \n",
       "2                 0   82068         0    45350148  2025-07-18  \n",
       "3                 0   47850         0       77463  2025-07-18  \n",
       "4                 0    1971         0    35027343  2025-07-18  \n",
       "..              ...     ...       ...         ...         ...  \n",
       "226               0    3104         0       10982  2025-07-18  \n",
       "227               0       0         0      626161  2025-07-18  \n",
       "228               0     662         0    31154867  2025-07-18  \n",
       "229               0    3919         0    19470234  2025-07-18  \n",
       "230               0    1731        12    15331428  2025-07-18  \n",
       "\n",
       "[231 rows x 11 columns]"
      ]
     },
     "execution_count": 4,
     "metadata": {},
     "output_type": "execute_result"
    }
   ],
   "source": [
    "# Connect to the SQLite database\n",
    "conn = sqlite3.connect(\"covid_data.db\")\n",
    "\n",
    "# Load the full dataset into a DataFrame\n",
    "df = pd.read_sql_query(\"SELECT * FROM daily_data\",conn)\n",
    "\n",
    "# Show shape and top rows\n",
    "print(df.shape)\n",
    "df"
   ]
  },
  {
   "cell_type": "code",
   "execution_count": 5,
   "id": "cd331f00-9231-4a94-be1d-1d75070d549a",
   "metadata": {},
   "outputs": [
    {
     "name": "stdout",
     "output_type": "stream",
     "text": [
      "<class 'pandas.core.frame.DataFrame'>\n",
      "RangeIndex: 231 entries, 0 to 230\n",
      "Data columns (total 11 columns):\n",
      " #   Column          Non-Null Count  Dtype \n",
      "---  ------          --------------  ----- \n",
      " 0   country         231 non-null    object\n",
      " 1   cases           231 non-null    int64 \n",
      " 2   todayCases      231 non-null    int64 \n",
      " 3   deaths          231 non-null    int64 \n",
      " 4   todayDeaths     231 non-null    int64 \n",
      " 5   recovered       231 non-null    int64 \n",
      " 6   todayRecovered  231 non-null    int64 \n",
      " 7   active          231 non-null    int64 \n",
      " 8   critical        231 non-null    int64 \n",
      " 9   population      231 non-null    int64 \n",
      " 10  fetch_date      231 non-null    object\n",
      "dtypes: int64(9), object(2)\n",
      "memory usage: 20.0+ KB\n"
     ]
    },
    {
     "data": {
      "text/plain": [
       "country           0\n",
       "cases             0\n",
       "todayCases        0\n",
       "deaths            0\n",
       "todayDeaths       0\n",
       "recovered         0\n",
       "todayRecovered    0\n",
       "active            0\n",
       "critical          0\n",
       "population        0\n",
       "fetch_date        0\n",
       "dtype: int64"
      ]
     },
     "execution_count": 5,
     "metadata": {},
     "output_type": "execute_result"
    }
   ],
   "source": [
    "# Overview of data types and non-null counts\n",
    "df.info()\n",
    "\n",
    "# Basic statistics\n",
    "df.describe()\n",
    "\n",
    "# Check for missing values\n",
    "df.isnull().sum()\n"
   ]
  },
  {
   "cell_type": "code",
   "execution_count": 6,
   "id": "feb497b0-64f4-4646-a6ae-c5f29994621d",
   "metadata": {},
   "outputs": [],
   "source": [
    "# Remove duplicate rows if any\n",
    "df = df.drop_duplicates()"
   ]
  },
  {
   "cell_type": "code",
   "execution_count": 7,
   "id": "79f17758-2cc6-4e81-80a8-de1c26ef36ff",
   "metadata": {},
   "outputs": [
    {
     "data": {
      "text/plain": [
       "(231, 11)"
      ]
     },
     "execution_count": 7,
     "metadata": {},
     "output_type": "execute_result"
    }
   ],
   "source": [
    "df.shape"
   ]
  },
  {
   "cell_type": "code",
   "execution_count": 8,
   "id": "e81fe9aa-2538-4402-904e-9ffc36e60ebb",
   "metadata": {},
   "outputs": [
    {
     "name": "stderr",
     "output_type": "stream",
     "text": [
      "C:\\Users\\steff\\AppData\\Local\\Temp\\ipykernel_5492\\1163196345.py:14: FutureWarning: \n",
      "\n",
      "Passing `palette` without assigning `hue` is deprecated and will be removed in v0.14.0. Assign the `x` variable to `hue` and set `legend=False` for the same effect.\n",
      "\n",
      "  sns.barplot(data=top10, x='country', y='cases', palette='Reds_r')\n"
     ]
    },
    {
     "ename": "AttributeError",
     "evalue": "'str' object has no attribute 'date'",
     "output_type": "error",
     "traceback": [
      "\u001b[1;31m---------------------------------------------------------------------------\u001b[0m",
      "\u001b[1;31mAttributeError\u001b[0m                            Traceback (most recent call last)",
      "Cell \u001b[1;32mIn[8], line 15\u001b[0m\n\u001b[0;32m     13\u001b[0m plt\u001b[38;5;241m.\u001b[39mfigure(figsize\u001b[38;5;241m=\u001b[39m(\u001b[38;5;241m12\u001b[39m, \u001b[38;5;241m6\u001b[39m))\n\u001b[0;32m     14\u001b[0m sns\u001b[38;5;241m.\u001b[39mbarplot(data\u001b[38;5;241m=\u001b[39mtop10, x\u001b[38;5;241m=\u001b[39m\u001b[38;5;124m'\u001b[39m\u001b[38;5;124mcountry\u001b[39m\u001b[38;5;124m'\u001b[39m, y\u001b[38;5;241m=\u001b[39m\u001b[38;5;124m'\u001b[39m\u001b[38;5;124mcases\u001b[39m\u001b[38;5;124m'\u001b[39m, palette\u001b[38;5;241m=\u001b[39m\u001b[38;5;124m'\u001b[39m\u001b[38;5;124mReds_r\u001b[39m\u001b[38;5;124m'\u001b[39m)\n\u001b[1;32m---> 15\u001b[0m plt\u001b[38;5;241m.\u001b[39mtitle(\u001b[38;5;124mf\u001b[39m\u001b[38;5;124m\"\u001b[39m\u001b[38;5;124mTop 10 Countries by Total Cases (\u001b[39m\u001b[38;5;132;01m{\u001b[39;00mlatest_date\u001b[38;5;241m.\u001b[39mdate()\u001b[38;5;132;01m}\u001b[39;00m\u001b[38;5;124m)\u001b[39m\u001b[38;5;124m\"\u001b[39m)\n\u001b[0;32m     16\u001b[0m plt\u001b[38;5;241m.\u001b[39mxlabel(\u001b[38;5;124m\"\u001b[39m\u001b[38;5;124mCountry\u001b[39m\u001b[38;5;124m\"\u001b[39m)\n\u001b[0;32m     17\u001b[0m plt\u001b[38;5;241m.\u001b[39mylabel(\u001b[38;5;124m\"\u001b[39m\u001b[38;5;124mTotal Cases\u001b[39m\u001b[38;5;124m\"\u001b[39m)\n",
      "\u001b[1;31mAttributeError\u001b[0m: 'str' object has no attribute 'date'"
     ]
    },
    {
     "data": {
      "image/png": "[encoded data removed]",
      "text/plain": [
       "<Figure size 1200x600 with 1 Axes>"
      ]
     },
     "metadata": {},
     "output_type": "display_data"
    }
   ],
   "source": [
    "import matplotlib.pyplot as plt\n",
    "import seaborn as sns\n",
    "\n",
    "# Get latest date\n",
    "latest_date = df['fetch_date'].max()\n",
    "\n",
    "# Filter today's data\n",
    "today_df = df[df['fetch_date'] == latest_date]\n",
    "\n",
    "# Top 10 countries by cases\n",
    "top10 = today_df.sort_values('cases', ascending=False).head(10)\n",
    "\n",
    "plt.figure(figsize=(12, 6))\n",
    "sns.barplot(data=top10, x='country', y='cases', palette='Reds_r')\n",
    "plt.title(f\"Top 10 Countries by Total Cases ({latest_date.date()})\")\n",
    "plt.xlabel(\"Country\")\n",
    "plt.ylabel(\"Total Cases\")\n",
    "plt.xticks(rotation=45)\n",
    "plt.tight_layout()\n",
    "plt.show()\n",
    "\n"
   ]
  },
  {
   "cell_type": "code",
   "execution_count": 9,
   "id": "e68e3bbe-548c-4091-96bc-0614306a89c8",
   "metadata": {},
   "outputs": [
    {
     "name": "stderr",
     "output_type": "stream",
     "text": [
      "<>:2: SyntaxWarning: invalid escape sequence '\\D'\n",
      "<>:2: SyntaxWarning: invalid escape sequence '\\D'\n",
      "C:\\Users\\steff\\AppData\\Local\\Temp\\ipykernel_5492\\3843189579.py:2: SyntaxWarning: invalid escape sequence '\\D'\n",
      "  df.to_excel(\"D:\\Data\\Projects\\Covid data\\covid_data_exported.xlsx\", index=False)\n"
     ]
    },
    {
     "name": "stdout",
     "output_type": "stream",
     "text": [
      "Data exported successfully to 'covid_data_exported.xlsx'\n"
     ]
    }
   ],
   "source": [
    "\n",
    "# Save to Excel\n",
    "df.to_excel(\"D:\\Data\\Projects\\Covid data\\covid_data_exported.xlsx\", index=False)\n",
    "\n",
    "print(\"Data exported successfully to 'covid_data_exported.xlsx'\")"
   ]
  },
  {
   "cell_type": "code",
   "execution_count": null,
   "id": "0989c103-df6a-4f8b-97f1-546930f8d35e",
   "metadata": {},
   "outputs": [],
   "source": []
  }
 ],
 "metadata": {
  "kernelspec": {
   "display_name": "Python 3 (ipykernel)",
   "language": "python",
   "name": "python3"
  },
  "language_info": {
   "codemirror_mode": {
    "name": "ipython",
    "version": 3
   },
   "file_extension": ".py",
   "mimetype": "text/x-python",
   "name": "python",
   "nbconvert_exporter": "python",
   "pygments_lexer": "ipython3",
   "version": "3.12.7"
  }
 },
 "nbformat": 4,
 "nbformat_minor": 5
}
